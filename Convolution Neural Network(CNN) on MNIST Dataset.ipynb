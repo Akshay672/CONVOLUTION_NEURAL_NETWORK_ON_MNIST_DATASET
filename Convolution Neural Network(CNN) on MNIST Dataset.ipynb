{
 "cells": [
  {
   "cell_type": "markdown",
   "id": "faa45245",
   "metadata": {},
   "source": [
    "## Convolution Neural Network(CNN) on MNIST Dataset"
   ]
  },
  {
   "cell_type": "markdown",
   "id": "685c59b0",
   "metadata": {},
   "source": [
    "### MNIST digits classification dataset"
   ]
  },
  {
   "cell_type": "markdown",
   "id": "96f2bfc0",
   "metadata": {},
   "source": [
    "<b>MNIST (\"Modified National Institute of Standards and Technology\")</b> is the de facto “hello world” dataset of computer vision. Since its release in 1999, this classic dataset of handwritten images has served as the basis for benchmarking classification algorithms. As new machine learning techniques emerge, MNIST remains a reliable resource for researchers and learners alike.\n",
    "\n",
    "\n",
    "This is a dataset of 60,000 28x28 grayscale images of the 10 digits, along with a test set of 10,000 images. \n",
    "\n",
    "\n"
   ]
  },
  {
   "cell_type": "code",
   "execution_count": 49,
   "id": "eba01c68",
   "metadata": {},
   "outputs": [],
   "source": [
    "#importing libraries\n",
    "import numpy as np\n",
    "import pandas as pd\n",
    "import tensorflow as tf#tensorflow\n",
    "import matplotlib.pyplot as plt"
   ]
  },
  {
   "cell_type": "code",
   "execution_count": 2,
   "id": "391c8d1d",
   "metadata": {},
   "outputs": [],
   "source": [
    "import warnings\n",
    "warnings.filterwarnings('ignore')\n",
    "import random\n",
    "random.seed(0)"
   ]
  },
  {
   "cell_type": "code",
   "execution_count": 3,
   "id": "6b074f0c",
   "metadata": {},
   "outputs": [
    {
     "data": {
      "text/plain": [
       "'2.5.0'"
      ]
     },
     "execution_count": 3,
     "metadata": {},
     "output_type": "execute_result"
    }
   ],
   "source": [
    "#checking the version of tensorflow\n",
    "tf.__version__"
   ]
  },
  {
   "cell_type": "code",
   "execution_count": 4,
   "id": "a6eb6429",
   "metadata": {},
   "outputs": [],
   "source": [
    "#Loading the mnist Dataset"
   ]
  },
  {
   "cell_type": "code",
   "execution_count": 5,
   "id": "6c2b2777",
   "metadata": {},
   "outputs": [],
   "source": [
    "from tensorflow.keras.datasets import mnist\n",
    "(x_train,y_train),(x_test,y_test)=mnist.load_data()"
   ]
  },
  {
   "cell_type": "code",
   "execution_count": 6,
   "id": "cf8277ad",
   "metadata": {},
   "outputs": [
    {
     "name": "stdout",
     "output_type": "stream",
     "text": [
      "(60000, 28, 28)\n",
      "(60000,)\n",
      "(10000, 28, 28)\n",
      "(10000,)\n"
     ]
    }
   ],
   "source": [
    "print(x_train.shape)#checkig the shape of the X_train\n",
    "print(y_train.shape)#checkig the shape of the y_train\n",
    "print(x_test.shape)#checkig the shape of the X_test\n",
    "print(y_test.shape)#checkig the shape of the y_test"
   ]
  },
  {
   "cell_type": "code",
   "execution_count": 7,
   "id": "b8e0e0b7",
   "metadata": {},
   "outputs": [],
   "source": [
    "#lets comare an xtrain and ytrain sample"
   ]
  },
  {
   "cell_type": "code",
   "execution_count": 8,
   "id": "fed7e8c8",
   "metadata": {},
   "outputs": [
    {
     "name": "stdout",
     "output_type": "stream",
     "text": [
      "Label: 5\n"
     ]
    },
    {
     "data": {
      "text/plain": [
       "<matplotlib.image.AxesImage at 0x22385f91940>"
      ]
     },
     "execution_count": 8,
     "metadata": {},
     "output_type": "execute_result"
    },
    {
     "data": {
      "image/png": "[encoded data removed]",
      "text/plain": [
       "<Figure size 432x288 with 1 Axes>"
      ]
     },
     "metadata": {
      "needs_background": "light"
     },
     "output_type": "display_data"
    }
   ],
   "source": [
    "print('Label:' , y_train[0])#0 is the number 5\n",
    "plt.imshow(x_train[0])"
   ]
  },
  {
   "cell_type": "code",
   "execution_count": null,
   "id": "78b87aaf",
   "metadata": {},
   "outputs": [],
   "source": [
    "#Reshape train and test sets into compatible shapes"
   ]
  },
  {
   "cell_type": "code",
   "execution_count": 9,
   "id": "adbd2a16",
   "metadata": {},
   "outputs": [],
   "source": [
    "x_train1=x_train.reshape(60000, 28, 28,1)#reshape because the data passed in convolution n/w should be in 4D\n",
    "x_test1=x_test.reshape(10000, 28, 28,1)"
   ]
  },
  {
   "cell_type": "code",
   "execution_count": null,
   "id": "227c3263",
   "metadata": {},
   "outputs": [],
   "source": [
    "#Normalize the data so that data is in range 0-1"
   ]
  },
  {
   "cell_type": "code",
   "execution_count": 10,
   "id": "016d5a98",
   "metadata": {},
   "outputs": [],
   "source": [
    "x_train2=x_train1/255.#Normalize\n",
    "\n",
    "x_test2=x_test1/255."
   ]
  },
  {
   "cell_type": "code",
   "execution_count": 11,
   "id": "4f0f39f8",
   "metadata": {},
   "outputs": [
    {
     "data": {
      "text/plain": [
       "((60000, 28, 28, 1), (10000, 28, 28, 1))"
      ]
     },
     "execution_count": 11,
     "metadata": {},
     "output_type": "execute_result"
    }
   ],
   "source": [
    "x_train2.shape,x_test2.shape"
   ]
  },
  {
   "cell_type": "code",
   "execution_count": null,
   "id": "e5acbb97",
   "metadata": {},
   "outputs": [],
   "source": [
    "# One-hot encode the class vector"
   ]
  },
  {
   "cell_type": "code",
   "execution_count": 13,
   "id": "5e8ca653",
   "metadata": {},
   "outputs": [],
   "source": [
    "from tensorflow.keras.utils import to_categorical\n",
    "y_train2=to_categorical(y_train,num_classes=10)\n",
    "y_test2=to_categorical(y_test,num_classes=10)"
   ]
  },
  {
   "cell_type": "code",
   "execution_count": 14,
   "id": "c9a00aa8",
   "metadata": {},
   "outputs": [
    {
     "name": "stdout",
     "output_type": "stream",
     "text": [
      "0\n"
     ]
    },
    {
     "data": {
      "text/plain": [
       "array([1., 0., 0., 0., 0., 0., 0., 0., 0., 0.], dtype=float32)"
      ]
     },
     "execution_count": 14,
     "metadata": {},
     "output_type": "execute_result"
    }
   ],
   "source": [
    "print(y_train[1])\n",
    "y_train2[1]# 0 will be denoted in the below foramt"
   ]
  },
  {
   "cell_type": "code",
   "execution_count": null,
   "id": "067670c2",
   "metadata": {},
   "outputs": [],
   "source": [
    "#Model Building"
   ]
  },
  {
   "cell_type": "code",
   "execution_count": 16,
   "id": "af49bdd0",
   "metadata": {},
   "outputs": [],
   "source": [
    "from tensorflow.keras.models import Sequential\n",
    "from tensorflow.keras.layers import Dense, Flatten, Dropout, Conv2D , MaxPool2D"
   ]
  },
  {
   "cell_type": "code",
   "execution_count": 32,
   "id": "c1ee453e",
   "metadata": {},
   "outputs": [],
   "source": [
    "model=Sequential()\n",
    "\n",
    "model.add(Conv2D(filters=32, kernel_size=(3,3),activation='relu', input_shape=(28, 28, 1)))\n",
    "model.add(MaxPool2D(pool_size=(2,2)))\n",
    "model.add(Conv2D(filters=16, kernel_size=(3,3),activation='relu'))\n",
    "model.add(MaxPool2D(pool_size=(2,2)))\n",
    "model.add(Dropout(0.2))\n",
    "model.add(Flatten())\n",
    "model.add(Dense(units=128,activation='relu'))\n",
    "model.add(Dense(units=64,activation='relu'))\n",
    "model.add(Dense(units=10,activation='softmax'))"
   ]
  },
  {
   "cell_type": "code",
   "execution_count": 33,
   "id": "df1b9764",
   "metadata": {},
   "outputs": [],
   "source": [
    "model.compile(optimizer='sgd',loss='categorical_crossentropy',metrics=['accuracy'])#Configures the model for training."
   ]
  },
  {
   "cell_type": "code",
   "execution_count": 51,
   "id": "a15b1127",
   "metadata": {},
   "outputs": [
    {
     "name": "stdout",
     "output_type": "stream",
     "text": [
      "Epoch 1/10\n",
      "960/960 [==============================] - 44s 46ms/step - loss: 0.0883 - accuracy: 0.9726 - val_loss: 0.0644 - val_accuracy: 0.9800\n",
      "Epoch 2/10\n",
      "960/960 [==============================] - 42s 44ms/step - loss: 0.0837 - accuracy: 0.9741 - val_loss: 0.0618 - val_accuracy: 0.9816\n",
      "Epoch 3/10\n",
      "960/960 [==============================] - 42s 44ms/step - loss: 0.0795 - accuracy: 0.9750 - val_loss: 0.0597 - val_accuracy: 0.9818\n",
      "Epoch 4/10\n",
      "960/960 [==============================] - 38s 40ms/step - loss: 0.0752 - accuracy: 0.9767 - val_loss: 0.0561 - val_accuracy: 0.9831\n",
      "Epoch 5/10\n",
      "960/960 [==============================] - 38s 39ms/step - loss: 0.0732 - accuracy: 0.9766 - val_loss: 0.0598 - val_accuracy: 0.9814\n",
      "Epoch 6/10\n",
      "960/960 [==============================] - 38s 39ms/step - loss: 0.0718 - accuracy: 0.9771 - val_loss: 0.0572 - val_accuracy: 0.9832\n",
      "Epoch 7/10\n",
      "960/960 [==============================] - 38s 39ms/step - loss: 0.0692 - accuracy: 0.9780 - val_loss: 0.0556 - val_accuracy: 0.9828\n",
      "Epoch 8/10\n",
      "960/960 [==============================] - 38s 39ms/step - loss: 0.0665 - accuracy: 0.9785 - val_loss: 0.0568 - val_accuracy: 0.9836\n",
      "Epoch 9/10\n",
      "960/960 [==============================] - 38s 40ms/step - loss: 0.0640 - accuracy: 0.9795 - val_loss: 0.0531 - val_accuracy: 0.9839\n",
      "Epoch 10/10\n",
      "960/960 [==============================] - 39s 41ms/step - loss: 0.0616 - accuracy: 0.9799 - val_loss: 0.0513 - val_accuracy: 0.9842\n"
     ]
    }
   ],
   "source": [
    "model1=model.fit(x_train2,y_train2,batch_size=50,epochs=10,validation_split=0.2)\n",
    "#Validation split: 20 % data used for validation"
   ]
  },
  {
   "cell_type": "code",
   "execution_count": 42,
   "id": "114fe62b",
   "metadata": {},
   "outputs": [],
   "source": [
    "#Model Evalutaion\n",
    "#Calculate Final loss and accuracy on test data:"
   ]
  },
  {
   "cell_type": "code",
   "execution_count": 52,
   "id": "fb1fa5b8",
   "metadata": {},
   "outputs": [
    {
     "name": "stdout",
     "output_type": "stream",
     "text": [
      "313/313 [==============================] - 3s 11ms/step - loss: 0.0404 - accuracy: 0.9863\n"
     ]
    },
    {
     "data": {
      "text/plain": [
       "[0.04038700833916664, 0.986299991607666]"
      ]
     },
     "execution_count": 52,
     "metadata": {},
     "output_type": "execute_result"
    }
   ],
   "source": [
    "model.evaluate(x_test2,y_test2)"
   ]
  },
  {
   "cell_type": "code",
   "execution_count": 53,
   "id": "8a466872",
   "metadata": {},
   "outputs": [
    {
     "name": "stdout",
     "output_type": "stream",
     "text": [
      "Model: \"sequential_2\"\n",
      "_________________________________________________________________\n",
      "Layer (type)                 Output Shape              Param #   \n",
      "=================================================================\n",
      "conv2d_4 (Conv2D)            (None, 26, 26, 32)        320       \n",
      "_________________________________________________________________\n",
      "max_pooling2d_4 (MaxPooling2 (None, 13, 13, 32)        0         \n",
      "_________________________________________________________________\n",
      "conv2d_5 (Conv2D)            (None, 11, 11, 16)        4624      \n",
      "_________________________________________________________________\n",
      "max_pooling2d_5 (MaxPooling2 (None, 5, 5, 16)          0         \n",
      "_________________________________________________________________\n",
      "dropout (Dropout)            (None, 5, 5, 16)          0         \n",
      "_________________________________________________________________\n",
      "flatten_2 (Flatten)          (None, 400)               0         \n",
      "_________________________________________________________________\n",
      "dense_6 (Dense)              (None, 128)               51328     \n",
      "_________________________________________________________________\n",
      "dense_7 (Dense)              (None, 64)                8256      \n",
      "_________________________________________________________________\n",
      "dense_8 (Dense)              (None, 10)                650       \n",
      "=================================================================\n",
      "Total params: 65,178\n",
      "Trainable params: 65,178\n",
      "Non-trainable params: 0\n",
      "_________________________________________________________________\n"
     ]
    }
   ],
   "source": [
    "model.summary()"
   ]
  },
  {
   "cell_type": "code",
   "execution_count": 54,
   "id": "635da445",
   "metadata": {},
   "outputs": [],
   "source": [
    "#Plotting"
   ]
  },
  {
   "cell_type": "code",
   "execution_count": 55,
   "id": "4d2e4ae0",
   "metadata": {},
   "outputs": [
    {
     "data": {
      "text/plain": [
       "[<matplotlib.lines.Line2D at 0x223aa1e84a8>]"
      ]
     },
     "execution_count": 55,
     "metadata": {},
     "output_type": "execute_result"
    },
    {
     "data": {
      "image/png": "[encoded data removed]",
      "text/plain": [
       "<Figure size 432x288 with 1 Axes>"
      ]
     },
     "metadata": {
      "needs_background": "light"
     },
     "output_type": "display_data"
    }
   ],
   "source": [
    "plt.plot(model1.history['accuracy'],'r')\n",
    "plt.plot(model1.history['val_accuracy'],'g')"
   ]
  },
  {
   "cell_type": "code",
   "execution_count": null,
   "id": "e9ac3c91",
   "metadata": {},
   "outputs": [],
   "source": [
    "#---------------------------------------------END-------------------------------------------------------#"
   ]
  }
 ],
 "metadata": {
  "kernelspec": {
   "display_name": "Python 3",
   "language": "python",
   "name": "python3"
  },
  "language_info": {
   "codemirror_mode": {
    "name": "ipython",
    "version": 3
   },
   "file_extension": ".py",
   "mimetype": "text/x-python",
   "name": "python",
   "nbconvert_exporter": "python",
   "pygments_lexer": "ipython3",
   "version": "3.6.13"
  }
 },
 "nbformat": 4,
 "nbformat_minor": 5
}
